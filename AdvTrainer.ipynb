{
 "cells": [
  {
   "cell_type": "code",
   "execution_count": 1,
   "metadata": {},
   "outputs": [
    {
     "name": "stdout",
     "output_type": "stream",
     "text": [
      "Extracting /tmp/mnist/train-images-idx3-ubyte.gz\n",
      "Extracting /tmp/mnist/train-labels-idx1-ubyte.gz\n",
      "Extracting /tmp/mnist/t10k-images-idx3-ubyte.gz\n",
      "Extracting /tmp/mnist/t10k-labels-idx1-ubyte.gz\n"
     ]
    }
   ],
   "source": [
    "from tensorflow.examples.tutorials.mnist import input_data\n",
    "mnist = input_data.read_data_sets(\"/tmp/mnist/\", one_hot=True)"
   ]
  },
  {
   "cell_type": "code",
   "execution_count": 2,
   "metadata": {},
   "outputs": [],
   "source": [
    "import os\n",
    "import tensorflow as tf\n",
    "import numpy as np\n",
    "\n",
    "from tqdm import tqdm\n",
    "\n",
    "from models import modelA, modelB, modelC, modelD\n",
    "from attacks import fgmt\n",
    "\n",
    "class AdvTrainer(object):\n",
    "    \n",
    "    def __init__(self, sess, mnist, type=0):\n",
    "\n",
    "        self.mnist = mnist\n",
    "        self.sess = sess\n",
    "        \n",
    "        # Parameters\n",
    "        self.learning_rate = 1e-4\n",
    "        self.total_epoch = 10\n",
    "        self.batch_size = 128\n",
    "        \n",
    "        # Network Parameters\n",
    "        self.n_input = 784\n",
    "        self.n_classes = 10\n",
    "        self.n_size = 28\n",
    "        self.n_channel = 1\n",
    "        self.dropout = 0.75\n",
    "        self.naive_scope='naive_{}'.format(type)\n",
    "        self.adv_scope='adv_{}'.format(type)\n",
    "        \n",
    "        \n",
    "        self.checkpoint_dir = './checkpoints'\n",
    "        self.save_file_name = 'mnist_cnn_weight_type{}.ckpt'.format(type)\n",
    "        self.adv_save_file_name = 'iter_fgsm_mnist_cnn_weight_type{}.ckpt'.format(type)\n",
    "        if not os.path.exists(self.checkpoint_dir):\n",
    "            os.makedirs(self.checkpoint_dir)\n",
    "            \n",
    "        models = [modelA, modelB, modelC, modelD]\n",
    "        \n",
    "        self.conv_net = models[type]\n",
    "        self.pretrained_net = models[type]\n",
    "        self.build()\n",
    "        \n",
    "        self.vars = tf.get_collection(tf.GraphKeys.TRAINABLE_VARIABLES, scope=self.naive_scope)\n",
    "        self.saver = tf.train.Saver(var_list = self.vars)\n",
    "        self.naive_restore()\n",
    "        \n",
    "        self.adv_vars = tf.get_collection(tf.GraphKeys.TRAINABLE_VARIABLES, scope=self.adv_scope)\n",
    "        self.adv_saver = tf.train.Saver(var_list = self.adv_vars)\n",
    "        \n",
    "        print('setting done!')\n",
    "    \n",
    "    def naive_restore(self):\n",
    "        self.saver.restore(self.sess, os.path.join(self.checkpoint_dir, self.save_file_name))\n",
    "        \n",
    "        \n",
    "    def build(self):\n",
    "        ## Modelling\n",
    "        # Input, Output\n",
    "        self.X = tf.placeholder(tf.float32, [None, 784], name='cnn_X')\n",
    "        self.Y = tf.placeholder(tf.float32, [None, 10], name='cnn_Y')\n",
    "        self.target_Y = tf.placeholder(tf.float32, [None, 10], name='cnn_Y')\n",
    "        self.is_training = tf.placeholder(tf.bool, name='cnn_placeholder')\n",
    "        \n",
    "        self.X_img = tf.reshape(self.X, (-1, self.n_size, self.n_size, self.n_channel))\n",
    "        self.trained_pred = self.pretrained_net(self.X_img, is_training=False, scope=self.naive_scope, reuse=False)\n",
    "        self.pred = self.conv_net(self.X_img, is_training=self.is_training, scope=self.adv_scope, reuse=False)\n",
    "        \n",
    "        self.org_cost = tf.reduce_mean(tf.nn.softmax_cross_entropy_with_logits(logits = self.pred, labels = self.Y))\n",
    "        self.target_cost = tf.reduce_mean(tf.nn.softmax_cross_entropy_with_logits(logits = self.pred, labels = self.target_Y))\n",
    "        \n",
    "        self.target_grad = tf.gradients(self.target_cost, self.X_img)[0]\n",
    "        \n",
    "        self.adv_X_img = fgmt(self.conv_net, self.X_img, epochs=10, eps=0.3)\n",
    "        self.adv_pred = self.conv_net(self.adv_X_img, is_training=self.is_training, scope=self.adv_scope, reuse=True)\n",
    "        self.trained_adv_pred = self.pretrained_net(self.adv_X_img, is_training=False, scope=self.naive_scope, reuse=True)\n",
    "        self.adv_cost = tf.reduce_mean(tf.nn.softmax_cross_entropy_with_logits(logits = self.adv_pred, labels = self.Y))\n",
    "        \n",
    "        self.cost = (self.org_cost + self.adv_cost) / 2\n",
    "        self.optimizer = tf.train.AdamOptimizer(learning_rate = self.learning_rate).minimize(self.cost)\n",
    "\n",
    "        correct_pred = tf.equal(tf.argmax(self.pred, 1), tf.argmax(self.Y, 1))\n",
    "        self.accuracy = tf.reduce_mean(tf.cast(correct_pred, tf.float32))\n",
    "        \n",
    "        adv_pred = tf.equal(tf.argmax(self.adv_pred, 1), tf.argmax(self.Y, 1))\n",
    "        self.adv_accuracy = tf.reduce_mean(tf.cast(adv_pred, tf.float32))\n",
    "        \n",
    "        trained_adv_pred = tf.equal(tf.argmax(self.trained_adv_pred, 1), tf.argmax(self.Y, 1))\n",
    "        self.trained_adv_accuracy = tf.reduce_mean(tf.cast(trained_adv_pred, tf.float32))\n",
    "        \n",
    "        print('build done!')\n",
    "    \n",
    "    def train(self):\n",
    "\n",
    "        init = tf.global_variables_initializer()\n",
    "        self.sess.run(init)\n",
    "        \n",
    "        total_iter = mnist.train.num_examples // self.batch_size\n",
    "        \n",
    "        self.sample_size = 256\n",
    "        \n",
    "        step = 1\n",
    "        for epochs in range(self.total_epoch):\n",
    "            for ii in tqdm(range(total_iter)):\n",
    "                batch_x, batch_y = self.mnist.train.next_batch(self.batch_size)\n",
    "                pred_y = self.get_pred_label(batch_x)\n",
    "                label_y = (pred_y + 1) % self.n_classes\n",
    "                target_y = np.zeros((self.batch_size, self.n_classes))\n",
    "                target_y[np.arange(self.batch_size), label_y] = 1\n",
    "                self.sess.run(self.optimizer, feed_dict={self.X: batch_x, self.Y: batch_y, self.target_Y: target_y, self.is_training: True})\n",
    "                \n",
    "            print(\"finished!\")\n",
    "            \n",
    "            test_x, test_y = self.mnist.test.next_batch(self.sample_size)\n",
    "            test_pred_y = self.get_pred_label(test_x)\n",
    "            test_label_y = (test_pred_y + 1) % self.n_classes\n",
    "            test_target_y = np.zeros((self.sample_size, self.n_classes))\n",
    "            test_target_y[np.arange(self.sample_size), test_label_y] = 1\n",
    "\n",
    "            print(\"Testing Accuracy on Original Images:\", \\\n",
    "                  self.sess.run(self.accuracy, feed_dict={self.X: test_x,\n",
    "                                                          self.Y: test_y,\n",
    "                                                          self.is_training: False}))\n",
    "\n",
    "            print(\"Testing Accuracy on Adversarial Images:\", \\\n",
    "                  self.sess.run(self.adv_accuracy, feed_dict={self.X: test_x,\n",
    "                                                              self.Y: test_y,\n",
    "                                                              self.target_Y: test_target_y,\n",
    "                                                              self.is_training: False}))\n",
    "            \n",
    "            print(\"Testing Accuracy of original model on Adversarial Images:\", \\\n",
    "                  self.sess.run(self.trained_adv_accuracy, feed_dict={self.X: test_x,\n",
    "                                                              self.Y: test_y,\n",
    "                                                              self.target_Y: test_target_y,\n",
    "                                                              self.is_training: False}))\n",
    "            \n",
    "        saved_path = self.adv_saver.save(self.sess, os.path.join(self.checkpoint_dir, self.adv_save_file_name))\n",
    "        print(\"Model saved in {}\".format(saved_path))\n",
    "    \n",
    "    def make_adv(self, X, Y):\n",
    "        num_img = X.shape[0]\n",
    "        target_y = np.zeros((num_img, self.n_classes))\n",
    "        target_y[np.arange(num_img), Y] = 1\n",
    "        return self.sess.run(self.adv_X_img, feed_dict={self.X: X, self.target_Y: target_y, self.is_training: False})\n",
    "    \n",
    "    def get_pred_label(self, X):\n",
    "        return np.argmax(self.sess.run(self.trained_pred, feed_dict={self.X: X, self.is_training: False}), axis=1)\n",
    "    \n",
    "    def test(self, X):\n",
    "        return self.sess.run(self.pred, feed_dict={self.X: X, self.is_training: False})\n",
    "    \n",
    "    def naive_test(self, X):\n",
    "        return self.sess.run(self.trained_pred, feed_dict={self.X: X, self.is_training: False})"
   ]
  },
  {
   "cell_type": "code",
   "execution_count": 3,
   "metadata": {
    "scrolled": false
   },
   "outputs": [
    {
     "name": "stdout",
     "output_type": "stream",
     "text": [
      "build done!\n",
      "INFO:tensorflow:Restoring parameters from ./checkpoints/mnist_cnn_weight_type3.ckpt\n"
     ]
    },
    {
     "name": "stderr",
     "output_type": "stream",
     "text": [
      "\r",
      "  0%|          | 0/429 [00:00<?, ?it/s]"
     ]
    },
    {
     "name": "stdout",
     "output_type": "stream",
     "text": [
      "setting done!\n"
     ]
    },
    {
     "name": "stderr",
     "output_type": "stream",
     "text": [
      "100%|██████████| 429/429 [00:08<00:00, 53.40it/s]\n",
      "  0%|          | 0/429 [00:00<?, ?it/s]"
     ]
    },
    {
     "name": "stdout",
     "output_type": "stream",
     "text": [
      "finished!\n",
      "Testing Accuracy on Original Images: 0.51953125\n",
      "Testing Accuracy on Adversarial Images: 0.15234375\n",
      "Testing Accuracy of original model on Adversarial Images: 0.10546875\n"
     ]
    },
    {
     "name": "stderr",
     "output_type": "stream",
     "text": [
      "100%|██████████| 429/429 [00:07<00:00, 55.63it/s]\n",
      "  0%|          | 2/429 [00:00<00:29, 14.52it/s]"
     ]
    },
    {
     "name": "stdout",
     "output_type": "stream",
     "text": [
      "finished!\n",
      "Testing Accuracy on Original Images: 0.67578125\n",
      "Testing Accuracy on Adversarial Images: 0.2421875\n",
      "Testing Accuracy of original model on Adversarial Images: 0.09375\n"
     ]
    },
    {
     "name": "stderr",
     "output_type": "stream",
     "text": [
      "100%|██████████| 429/429 [00:07<00:00, 57.20it/s]\n",
      "  1%|          | 3/429 [00:00<00:21, 19.97it/s]"
     ]
    },
    {
     "name": "stdout",
     "output_type": "stream",
     "text": [
      "finished!\n",
      "Testing Accuracy on Original Images: 0.86328125\n",
      "Testing Accuracy on Adversarial Images: 0.14453125\n",
      "Testing Accuracy of original model on Adversarial Images: 0.10546875\n"
     ]
    },
    {
     "name": "stderr",
     "output_type": "stream",
     "text": [
      "100%|██████████| 429/429 [00:07<00:00, 55.66it/s]\n",
      "  1%|          | 3/429 [00:00<00:21, 20.24it/s]"
     ]
    },
    {
     "name": "stdout",
     "output_type": "stream",
     "text": [
      "finished!\n",
      "Testing Accuracy on Original Images: 0.9140625\n",
      "Testing Accuracy on Adversarial Images: 0.1640625\n",
      "Testing Accuracy of original model on Adversarial Images: 0.05859375\n"
     ]
    },
    {
     "name": "stderr",
     "output_type": "stream",
     "text": [
      "100%|██████████| 429/429 [00:07<00:00, 59.56it/s]\n",
      "  0%|          | 0/429 [00:00<?, ?it/s]"
     ]
    },
    {
     "name": "stdout",
     "output_type": "stream",
     "text": [
      "finished!\n",
      "Testing Accuracy on Original Images: 0.91015625\n",
      "Testing Accuracy on Adversarial Images: 0.19921875\n",
      "Testing Accuracy of original model on Adversarial Images: 0.09375\n"
     ]
    },
    {
     "name": "stderr",
     "output_type": "stream",
     "text": [
      "100%|██████████| 429/429 [00:07<00:00, 55.98it/s]\n",
      "  0%|          | 0/429 [00:00<?, ?it/s]"
     ]
    },
    {
     "name": "stdout",
     "output_type": "stream",
     "text": [
      "finished!\n",
      "Testing Accuracy on Original Images: 0.890625\n",
      "Testing Accuracy on Adversarial Images: 0.19140625\n",
      "Testing Accuracy of original model on Adversarial Images: 0.12890625\n"
     ]
    },
    {
     "name": "stderr",
     "output_type": "stream",
     "text": [
      "100%|██████████| 429/429 [00:07<00:00, 55.19it/s]\n",
      "  0%|          | 0/429 [00:00<?, ?it/s]"
     ]
    },
    {
     "name": "stdout",
     "output_type": "stream",
     "text": [
      "finished!\n",
      "Testing Accuracy on Original Images: 0.94921875\n",
      "Testing Accuracy on Adversarial Images: 0.2265625\n",
      "Testing Accuracy of original model on Adversarial Images: 0.08203125\n"
     ]
    },
    {
     "name": "stderr",
     "output_type": "stream",
     "text": [
      "100%|██████████| 429/429 [00:07<00:00, 55.36it/s]\n",
      "  0%|          | 0/429 [00:00<?, ?it/s]"
     ]
    },
    {
     "name": "stdout",
     "output_type": "stream",
     "text": [
      "finished!\n",
      "Testing Accuracy on Original Images: 0.91015625\n",
      "Testing Accuracy on Adversarial Images: 0.1796875\n",
      "Testing Accuracy of original model on Adversarial Images: 0.09765625\n"
     ]
    },
    {
     "name": "stderr",
     "output_type": "stream",
     "text": [
      "100%|██████████| 429/429 [00:07<00:00, 55.68it/s]\n",
      "  1%|▏         | 6/429 [00:00<00:07, 54.77it/s]"
     ]
    },
    {
     "name": "stdout",
     "output_type": "stream",
     "text": [
      "finished!\n",
      "Testing Accuracy on Original Images: 0.93359375\n",
      "Testing Accuracy on Adversarial Images: 0.19140625\n",
      "Testing Accuracy of original model on Adversarial Images: 0.1015625\n"
     ]
    },
    {
     "name": "stderr",
     "output_type": "stream",
     "text": [
      "100%|██████████| 429/429 [00:07<00:00, 55.48it/s]\n"
     ]
    },
    {
     "name": "stdout",
     "output_type": "stream",
     "text": [
      "finished!\n",
      "Testing Accuracy on Original Images: 0.9375\n",
      "Testing Accuracy on Adversarial Images: 0.2109375\n",
      "Testing Accuracy of original model on Adversarial Images: 0.09765625\n",
      "Model saved in ./checkpoints/iter_fgsm_mnist_cnn_weight_type3.ckpt\n"
     ]
    }
   ],
   "source": [
    "os.environ[\"CUDA_VISIBLE_DEVICES\"]=\"1\"\n",
    "sess = tf.Session()\n",
    "trainer = AdvTrainer(sess, mnist, type=3)\n",
    "trainer.train()"
   ]
  },
  {
   "cell_type": "code",
   "execution_count": 4,
   "metadata": {},
   "outputs": [
    {
     "data": {
      "text/plain": [
       "<matplotlib.figure.Figure at 0x7f1b1dafc048>"
      ]
     },
     "metadata": {},
     "output_type": "display_data"
    },
    {
     "data": {
      "text/plain": [
       "<matplotlib.figure.Figure at 0x7f1b12124160>"
      ]
     },
     "metadata": {},
     "output_type": "display_data"
    }
   ],
   "source": [
    "import matplotlib.pyplot as plt\n",
    "\n",
    "x = mnist.test.images[0]\n",
    "plt.imshow(np.reshape(x, (28, 28)))\n",
    "plt.show()\n",
    "adv_x = trainer.make_adv(np.array([x]), 1)[0]\n",
    "\n",
    "plt.imshow(np.reshape(adv_x, (28, 28)))\n",
    "plt.show()"
   ]
  },
  {
   "cell_type": "code",
   "execution_count": null,
   "metadata": {},
   "outputs": [],
   "source": []
  }
 ],
 "metadata": {
  "kernelspec": {
   "display_name": "Python 3",
   "language": "python",
   "name": "python3"
  },
  "language_info": {
   "codemirror_mode": {
    "name": "ipython",
    "version": 3
   },
   "file_extension": ".py",
   "mimetype": "text/x-python",
   "name": "python",
   "nbconvert_exporter": "python",
   "pygments_lexer": "ipython3",
   "version": "3.5.2"
  }
 },
 "nbformat": 4,
 "nbformat_minor": 2
}
