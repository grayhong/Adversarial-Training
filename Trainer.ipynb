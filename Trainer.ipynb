{
 "cells": [
  {
   "cell_type": "code",
   "execution_count": 1,
   "metadata": {},
   "outputs": [
    {
     "name": "stdout",
     "output_type": "stream",
     "text": [
      "Extracting /tmp/mnist/train-images-idx3-ubyte.gz\n",
      "Extracting /tmp/mnist/train-labels-idx1-ubyte.gz\n",
      "Extracting /tmp/mnist/t10k-images-idx3-ubyte.gz\n",
      "Extracting /tmp/mnist/t10k-labels-idx1-ubyte.gz\n"
     ]
    }
   ],
   "source": [
    "from tensorflow.examples.tutorials.mnist import input_data\n",
    "mnist = input_data.read_data_sets(\"/tmp/mnist/\", one_hot=True)"
   ]
  },
  {
   "cell_type": "code",
   "execution_count": 2,
   "metadata": {},
   "outputs": [],
   "source": [
    "import os\n",
    "import tensorflow as tf\n",
    "from tqdm import tqdm\n",
    "\n",
    "from models import modelA, modelB, modelC, modelD\n",
    "\n",
    "class Trainer(object):\n",
    "    \n",
    "    def __init__(self, sess, mnist, type=0):\n",
    "\n",
    "        self.mnist = mnist\n",
    "        self.sess = sess\n",
    "        \n",
    "        # Parameters\n",
    "        self.learning_rate = 0.001\n",
    "        self.total_epoch = 5\n",
    "        self.batch_size = 128\n",
    "        \n",
    "        # Network Parameters\n",
    "        self.n_input = 784\n",
    "        self.n_classes = 10\n",
    "        self.n_size = 28\n",
    "        self.n_channel = 1\n",
    "        self.dropout = 0.75\n",
    "        self.scope='naive_{}'.format(type)\n",
    "        \n",
    "        \n",
    "        self.checkpoint_dir = './checkpoints'\n",
    "        self.save_file_name = 'mnist_cnn_weight_type{}.ckpt'.format(type)\n",
    "        if not os.path.exists(self.checkpoint_dir):\n",
    "            os.makedirs(self.checkpoint_dir)\n",
    "            \n",
    "        models = [modelA, modelB, modelC, modelD]\n",
    "        \n",
    "        self.conv_net = models[type]\n",
    "        self.build()\n",
    "        \n",
    "        self.vars = tf.get_collection(tf.GraphKeys.TRAINABLE_VARIABLES, scope=self.scope)\n",
    "        self.saver = tf.train.Saver(var_list = self.vars)\n",
    "        \n",
    "        print('setting done!')\n",
    "    \n",
    "    def restore(self):\n",
    "        self.saver.restore(self.sess, os.path.join(self.checkpoint_dir, self.save_file_name))\n",
    "        \n",
    "        \n",
    "    def build(self):\n",
    "        ## Modelling\n",
    "        # Input, Output\n",
    "        self.X = tf.placeholder(tf.float32, [None, 784], name='cnn_X')\n",
    "        self.Y = tf.placeholder(tf.float32, [None, 10], name='cnn_Y')\n",
    "        self.is_training = tf.placeholder(tf.bool, name='cnn_placeholder')\n",
    "        \n",
    "        self.X_img = tf.reshape(self.X, (-1, self.n_size, self.n_size, self.n_channel))\n",
    "        self.pred = self.conv_net(self.X_img, self.is_training, self.scope)\n",
    "        self.cost = tf.reduce_mean(tf.nn.softmax_cross_entropy_with_logits(logits = self.pred, labels = self.Y))\n",
    "        \n",
    "        self.optimizer = tf.train.AdamOptimizer(learning_rate = self.learning_rate).minimize(self.cost)\n",
    "\n",
    "        correct_pred = tf.equal(tf.argmax(self.pred, 1), tf.argmax(self.Y, 1))\n",
    "        self.accuracy = tf.reduce_mean(tf.cast(correct_pred, tf.float32))\n",
    "        \n",
    "        print('build done!')\n",
    "    \n",
    "    def train(self):\n",
    "\n",
    "        init = tf.global_variables_initializer()\n",
    "        self.sess.run(init)\n",
    "        \n",
    "        total_iter = mnist.train.num_examples // self.batch_size\n",
    "        \n",
    "        step = 1\n",
    "        for epochs in range(self.total_epoch):\n",
    "            for ii in tqdm(range(total_iter)):\n",
    "                batch_x, batch_y = self.mnist.train.next_batch(self.batch_size)\n",
    "                self.sess.run(self.optimizer, feed_dict={self.X: batch_x, self.Y: batch_y, self.is_training: True})\n",
    "                \n",
    "            print(\"finished!\")\n",
    "\n",
    "            print(\"Testing Accuracy:\", \\\n",
    "                  self.sess.run(self.accuracy, feed_dict={self.X: self.mnist.test.images[:256],\n",
    "                                                          self.Y: self.mnist.test.labels[:256],\n",
    "                                                          self.is_training: False}))\n",
    "\n",
    "            \n",
    "        saved_path = self.saver.save(self.sess, os.path.join(self.checkpoint_dir, self.save_file_name))\n",
    "        print(\"Model saved in {}\".format(saved_path))\n",
    "    \n",
    "    def test(self, X):\n",
    "        return self.sess.run(self.pred, feed_dict={self.X: X, self.is_training: False})"
   ]
  },
  {
   "cell_type": "code",
   "execution_count": 3,
   "metadata": {},
   "outputs": [
    {
     "name": "stdout",
     "output_type": "stream",
     "text": [
      "build done!\n",
      "setting done!\n"
     ]
    },
    {
     "name": "stderr",
     "output_type": "stream",
     "text": [
      "100%|██████████| 429/429 [00:02<00:00, 144.39it/s]\n",
      "  0%|          | 1/429 [00:00<00:49,  8.68it/s]"
     ]
    },
    {
     "name": "stdout",
     "output_type": "stream",
     "text": [
      "finished!\n",
      "Testing Accuracy: 0.9921875\n"
     ]
    },
    {
     "name": "stderr",
     "output_type": "stream",
     "text": [
      "100%|██████████| 429/429 [00:01<00:00, 217.17it/s]\n",
      "  0%|          | 2/429 [00:00<00:21, 19.85it/s]"
     ]
    },
    {
     "name": "stdout",
     "output_type": "stream",
     "text": [
      "finished!\n",
      "Testing Accuracy: 0.99609375\n"
     ]
    },
    {
     "name": "stderr",
     "output_type": "stream",
     "text": [
      "100%|██████████| 429/429 [00:01<00:00, 217.27it/s]\n",
      "  1%|          | 3/429 [00:00<00:16, 26.30it/s]"
     ]
    },
    {
     "name": "stdout",
     "output_type": "stream",
     "text": [
      "finished!\n",
      "Testing Accuracy: 0.98828125\n"
     ]
    },
    {
     "name": "stderr",
     "output_type": "stream",
     "text": [
      "100%|██████████| 429/429 [00:02<00:00, 212.64it/s]\n",
      "  1%|          | 3/429 [00:00<00:16, 25.66it/s]"
     ]
    },
    {
     "name": "stdout",
     "output_type": "stream",
     "text": [
      "finished!\n",
      "Testing Accuracy: 0.99609375\n"
     ]
    },
    {
     "name": "stderr",
     "output_type": "stream",
     "text": [
      "100%|██████████| 429/429 [00:02<00:00, 213.32it/s]\n"
     ]
    },
    {
     "name": "stdout",
     "output_type": "stream",
     "text": [
      "finished!\n",
      "Testing Accuracy: 0.98828125\n",
      "Model saved in ./checkpoints/mnist_cnn_weight_type0.ckpt\n"
     ]
    },
    {
     "name": "stderr",
     "output_type": "stream",
     "text": [
      "\r",
      "  0%|          | 0/429 [00:00<?, ?it/s]"
     ]
    },
    {
     "name": "stdout",
     "output_type": "stream",
     "text": [
      "build done!\n",
      "setting done!\n"
     ]
    },
    {
     "name": "stderr",
     "output_type": "stream",
     "text": [
      "100%|██████████| 429/429 [00:01<00:00, 231.29it/s]\n",
      "  1%|          | 5/429 [00:00<00:09, 44.53it/s]"
     ]
    },
    {
     "name": "stdout",
     "output_type": "stream",
     "text": [
      "finished!\n",
      "Testing Accuracy: 0.97265625\n"
     ]
    },
    {
     "name": "stderr",
     "output_type": "stream",
     "text": [
      "100%|██████████| 429/429 [00:01<00:00, 234.20it/s]\n",
      "  1%|          | 5/429 [00:00<00:09, 44.98it/s]"
     ]
    },
    {
     "name": "stdout",
     "output_type": "stream",
     "text": [
      "finished!\n",
      "Testing Accuracy: 0.97265625\n"
     ]
    },
    {
     "name": "stderr",
     "output_type": "stream",
     "text": [
      "100%|██████████| 429/429 [00:01<00:00, 240.56it/s]\n",
      "  1%|▏         | 6/429 [00:00<00:07, 57.46it/s]"
     ]
    },
    {
     "name": "stdout",
     "output_type": "stream",
     "text": [
      "finished!\n",
      "Testing Accuracy: 0.97265625\n"
     ]
    },
    {
     "name": "stderr",
     "output_type": "stream",
     "text": [
      "100%|██████████| 429/429 [00:01<00:00, 231.44it/s]\n",
      "  2%|▏         | 7/429 [00:00<00:07, 52.93it/s]"
     ]
    },
    {
     "name": "stdout",
     "output_type": "stream",
     "text": [
      "finished!\n",
      "Testing Accuracy: 0.984375\n"
     ]
    },
    {
     "name": "stderr",
     "output_type": "stream",
     "text": [
      "100%|██████████| 429/429 [00:01<00:00, 224.98it/s]\n"
     ]
    },
    {
     "name": "stdout",
     "output_type": "stream",
     "text": [
      "finished!\n",
      "Testing Accuracy: 0.98046875\n",
      "Model saved in ./checkpoints/mnist_cnn_weight_type1.ckpt\n"
     ]
    },
    {
     "name": "stderr",
     "output_type": "stream",
     "text": [
      "\r",
      "  0%|          | 0/429 [00:00<?, ?it/s]"
     ]
    },
    {
     "name": "stdout",
     "output_type": "stream",
     "text": [
      "build done!\n",
      "setting done!\n"
     ]
    },
    {
     "name": "stderr",
     "output_type": "stream",
     "text": [
      "100%|██████████| 429/429 [00:06<00:00, 70.91it/s]\n",
      "  0%|          | 0/429 [00:00<?, ?it/s]"
     ]
    },
    {
     "name": "stdout",
     "output_type": "stream",
     "text": [
      "finished!\n",
      "Testing Accuracy: 0.9921875\n"
     ]
    },
    {
     "name": "stderr",
     "output_type": "stream",
     "text": [
      "100%|██████████| 429/429 [00:05<00:00, 72.30it/s]\n",
      "  2%|▏         | 8/429 [00:00<00:05, 73.45it/s]"
     ]
    },
    {
     "name": "stdout",
     "output_type": "stream",
     "text": [
      "finished!\n",
      "Testing Accuracy: 0.9921875\n"
     ]
    },
    {
     "name": "stderr",
     "output_type": "stream",
     "text": [
      "100%|██████████| 429/429 [00:05<00:00, 72.51it/s]\n",
      "  2%|▏         | 8/429 [00:00<00:05, 74.49it/s]"
     ]
    },
    {
     "name": "stdout",
     "output_type": "stream",
     "text": [
      "finished!\n",
      "Testing Accuracy: 0.99609375\n"
     ]
    },
    {
     "name": "stderr",
     "output_type": "stream",
     "text": [
      "100%|██████████| 429/429 [00:05<00:00, 72.40it/s]\n",
      "  2%|▏         | 8/429 [00:00<00:05, 75.01it/s]"
     ]
    },
    {
     "name": "stdout",
     "output_type": "stream",
     "text": [
      "finished!\n",
      "Testing Accuracy: 0.99609375\n"
     ]
    },
    {
     "name": "stderr",
     "output_type": "stream",
     "text": [
      "100%|██████████| 429/429 [00:05<00:00, 72.61it/s]\n"
     ]
    },
    {
     "name": "stdout",
     "output_type": "stream",
     "text": [
      "finished!\n",
      "Testing Accuracy: 0.99609375\n",
      "Model saved in ./checkpoints/mnist_cnn_weight_type2.ckpt\n"
     ]
    },
    {
     "name": "stderr",
     "output_type": "stream",
     "text": [
      "\r",
      "  0%|          | 0/429 [00:00<?, ?it/s]"
     ]
    },
    {
     "name": "stdout",
     "output_type": "stream",
     "text": [
      "build done!\n",
      "setting done!\n"
     ]
    },
    {
     "name": "stderr",
     "output_type": "stream",
     "text": [
      "100%|██████████| 429/429 [00:01<00:00, 274.77it/s]\n",
      "  3%|▎         | 12/429 [00:00<00:04, 84.08it/s]"
     ]
    },
    {
     "name": "stdout",
     "output_type": "stream",
     "text": [
      "finished!\n",
      "Testing Accuracy: 0.97265625\n"
     ]
    },
    {
     "name": "stderr",
     "output_type": "stream",
     "text": [
      "100%|██████████| 429/429 [00:01<00:00, 293.29it/s]\n",
      "  3%|▎         | 12/429 [00:00<00:04, 95.64it/s]"
     ]
    },
    {
     "name": "stdout",
     "output_type": "stream",
     "text": [
      "finished!\n",
      "Testing Accuracy: 0.97265625\n"
     ]
    },
    {
     "name": "stderr",
     "output_type": "stream",
     "text": [
      "100%|██████████| 429/429 [00:01<00:00, 286.24it/s]\n",
      "  3%|▎         | 13/429 [00:00<00:04, 94.65it/s]"
     ]
    },
    {
     "name": "stdout",
     "output_type": "stream",
     "text": [
      "finished!\n",
      "Testing Accuracy: 0.9765625\n"
     ]
    },
    {
     "name": "stderr",
     "output_type": "stream",
     "text": [
      "100%|██████████| 429/429 [00:01<00:00, 304.14it/s]\n",
      "  3%|▎         | 14/429 [00:00<00:03, 113.92it/s]"
     ]
    },
    {
     "name": "stdout",
     "output_type": "stream",
     "text": [
      "finished!\n",
      "Testing Accuracy: 0.98046875\n"
     ]
    },
    {
     "name": "stderr",
     "output_type": "stream",
     "text": [
      "100%|██████████| 429/429 [00:01<00:00, 313.74it/s]\n"
     ]
    },
    {
     "name": "stdout",
     "output_type": "stream",
     "text": [
      "finished!\n",
      "Testing Accuracy: 0.984375\n",
      "Model saved in ./checkpoints/mnist_cnn_weight_type3.ckpt\n"
     ]
    }
   ],
   "source": [
    "sess = tf.Session()\n",
    "trainer = Trainer(sess, mnist, type=0)\n",
    "trainer.train()\n",
    "trainer = Trainer(sess, mnist, type=1)\n",
    "trainer.train()\n",
    "trainer = Trainer(sess, mnist, type=2)\n",
    "trainer.train()\n",
    "trainer = Trainer(sess, mnist, type=3)\n",
    "trainer.train()"
   ]
  }
 ],
 "metadata": {
  "kernelspec": {
   "display_name": "Python 3",
   "language": "python",
   "name": "python3"
  },
  "language_info": {
   "codemirror_mode": {
    "name": "ipython",
    "version": 3
   },
   "file_extension": ".py",
   "mimetype": "text/x-python",
   "name": "python",
   "nbconvert_exporter": "python",
   "pygments_lexer": "ipython3",
   "version": "3.5.2"
  }
 },
 "nbformat": 4,
 "nbformat_minor": 2
}
